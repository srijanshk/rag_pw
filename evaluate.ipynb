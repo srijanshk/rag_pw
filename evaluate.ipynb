{
 "cells": [
  {
   "cell_type": "code",
   "execution_count": 1,
   "id": "c5bad5a8-f877-47ba-a47e-628ca1575c92",
   "metadata": {},
   "outputs": [],
   "source": [
    "import json, re, pandas as pd\n",
    "from collections import Counter"
   ]
  },
  {
   "cell_type": "code",
   "execution_count": 2,
   "id": "7f968452-4d2a-44ec-8bfe-c04b6b25dc91",
   "metadata": {},
   "outputs": [],
   "source": [
    "NUM_RE = re.compile(r\"[+-]?\\d+(?:/\\d+)?\")"
   ]
  },
  {
   "cell_type": "code",
   "execution_count": 3,
   "id": "06c921cf-b632-45f7-9750-148c8dddd4ae",
   "metadata": {},
   "outputs": [],
   "source": [
    "def _latex_to_plain(s: str) -> str:\n",
    "    s = re.sub(r\"\\\\boxed{([^}]*)}\", r\"\\1\", s)                           # \\boxed{…}\n",
    "    s = re.sub(r\"\\\\(?:d)?frac{([^}]*)}{([^}]*)}\", r\"\\1/\\2\", s)          # \\frac{a}{b}\n",
    "    return s.replace(\",\", \"\").lstrip(\"$€£ \").strip()"
   ]
  },
  {
   "cell_type": "code",
   "execution_count": 4,
   "id": "9ce1ee41-1730-4c0f-9ab8-18a694c75623",
   "metadata": {},
   "outputs": [],
   "source": [
    "def extract_numeric(text: str | None):\n",
    "    \"\"\"Return final numeric token - tries <answer>… first, else last number.\"\"\"\n",
    "    if not text:\n",
    "        return None\n",
    "    # closed tag\n",
    "    m = re.search(r\"<answer>(.*?)</answer>\", text, re.I | re.S)\n",
    "    if m and (n := NUM_RE.search(_latex_to_plain(m.group(1)))):\n",
    "        return n.group(0)\n",
    "    # open tag\n",
    "    m = re.search(r\"<answer>(.*)$\", text, re.I | re.S)\n",
    "    if m and (n := NUM_RE.search(_latex_to_plain(m.group(1)))):\n",
    "        return n.group(0)\n",
    "    # number before </answer>\n",
    "    m = re.search(r\"([+-]?\\d+(?:/\\d+)?)\\s*</answer>\", text, re.I | re.S)\n",
    "    if m:\n",
    "        return _latex_to_plain(m.group(1))\n",
    "    # fallback\n",
    "    nums = NUM_RE.findall(_latex_to_plain(text))\n",
    "    return nums[-1] if nums else None"
   ]
  },
  {
   "cell_type": "code",
   "execution_count": 5,
   "id": "3b3dccb4-dca1-4575-b140-4e98ded6b012",
   "metadata": {},
   "outputs": [],
   "source": [
    "def _load_jsonl(path, tolerant=False):\n",
    "    bad = 0; items = []\n",
    "    with open(path, encoding=\"utf-8\") as f:\n",
    "        for ln_no, ln in enumerate(f, 1):\n",
    "            ln = ln.strip()\n",
    "            if not ln:\n",
    "                continue\n",
    "            try:\n",
    "                items.append(json.loads(ln))\n",
    "            except json.JSONDecodeError as e:\n",
    "                bad += 1\n",
    "                if not tolerant:\n",
    "                    raise RuntimeError(f\"{path}:{ln_no}\\n{e}\")\n",
    "    if bad:\n",
    "        print(f\"[warn] skipped {bad} malformed lines\")\n",
    "    return items\n"
   ]
  },
  {
   "cell_type": "code",
   "execution_count": 6,
   "id": "2002a28a-afd4-45f9-9653-36b1bb6f26b5",
   "metadata": {},
   "outputs": [],
   "source": [
    "def _load_jsonflex(path):\n",
    "    \"\"\"Accepts JSON-Lines *or* a single JSON array.\"\"\"\n",
    "    with open(path, encoding=\"utf-8\") as f:\n",
    "        first = f.read(1)\n",
    "        f.seek(0)\n",
    "        # case 1: JSON array ― file starts with “[”\n",
    "        if first == \"[\":\n",
    "            return json.load(f)            # returns list[dict]\n",
    "        # case 2: JSONL ― stream line-by-line\n",
    "        items = []\n",
    "        for ln in f:\n",
    "            ln = ln.strip()\n",
    "            if ln:\n",
    "                try:\n",
    "                    items.append(json.loads(ln))\n",
    "                except json.JSONDecodeError:\n",
    "                    pass                   # or raise\n",
    "        return items\n"
   ]
  },
  {
   "cell_type": "code",
   "execution_count": 7,
   "id": "33e8996a-d65d-43a2-832a-59922a57be20",
   "metadata": {},
   "outputs": [],
   "source": [
    "def evaluate(pred_path: str, gold_path: str, show_errors: int = 5) -> float:\n",
    "    pred, gold = _load_jsonflex(pred_path), _load_jsonflex(gold_path)\n",
    "    if len(pred) != len(gold):\n",
    "        print(f\"[warn] len(pred)={len(pred)} ≠ len(gold)={len(gold)}\")\n",
    "    rows, correct = [], 0\n",
    "    for i, (p, g) in enumerate(zip(pred, gold)):\n",
    "        p_ans = extract_numeric(p.get(\"raw\") or p.get(\"prediction\"))\n",
    "        g_ans = extract_numeric(g.get(\"answer\") or g.get(\"solution\"))\n",
    "        ok = (p_ans == g_ans)\n",
    "        correct += ok\n",
    "        if not ok and len(rows) < show_errors:\n",
    "            rows.append({\"idx\": i, \"pred\": p_ans, \"gold\": g_ans})\n",
    "    acc = correct / len(pred) if pred else 0.0\n",
    "    print(f\"Accuracy: {correct}/{len(pred)}  ({acc*100:.2f}%)\")\n",
    "    if rows:\n",
    "        display(pd.DataFrame(rows))\n",
    "    return acc"
   ]
  },
  {
   "cell_type": "code",
   "execution_count": 8,
   "id": "133f82a6-f45e-4244-be3b-e7aca4aac98f",
   "metadata": {},
   "outputs": [
    {
     "name": "stdout",
     "output_type": "stream",
     "text": [
      "Accuracy: 1085/1319  (82.26%)\n"
     ]
    },
    {
     "data": {
      "text/html": [
       "<div>\n",
       "<style scoped>\n",
       "    .dataframe tbody tr th:only-of-type {\n",
       "        vertical-align: middle;\n",
       "    }\n",
       "\n",
       "    .dataframe tbody tr th {\n",
       "        vertical-align: top;\n",
       "    }\n",
       "\n",
       "    .dataframe thead th {\n",
       "        text-align: right;\n",
       "    }\n",
       "</style>\n",
       "<table border=\"1\" class=\"dataframe\">\n",
       "  <thead>\n",
       "    <tr style=\"text-align: right;\">\n",
       "      <th></th>\n",
       "      <th>idx</th>\n",
       "      <th>pred</th>\n",
       "      <th>gold</th>\n",
       "    </tr>\n",
       "  </thead>\n",
       "  <tbody>\n",
       "    <tr>\n",
       "      <th>0</th>\n",
       "      <td>5</td>\n",
       "      <td>50</td>\n",
       "      <td>64</td>\n",
       "    </tr>\n",
       "    <tr>\n",
       "      <th>1</th>\n",
       "      <td>7</td>\n",
       "      <td>120</td>\n",
       "      <td>160</td>\n",
       "    </tr>\n",
       "    <tr>\n",
       "      <th>2</th>\n",
       "      <td>8</td>\n",
       "      <td>180</td>\n",
       "      <td>45</td>\n",
       "    </tr>\n",
       "    <tr>\n",
       "      <th>3</th>\n",
       "      <td>12</td>\n",
       "      <td>21</td>\n",
       "      <td>13</td>\n",
       "    </tr>\n",
       "    <tr>\n",
       "      <th>4</th>\n",
       "      <td>15</td>\n",
       "      <td>4875</td>\n",
       "      <td>125</td>\n",
       "    </tr>\n",
       "  </tbody>\n",
       "</table>\n",
       "</div>"
      ],
      "text/plain": [
       "   idx  pred gold\n",
       "0    5    50   64\n",
       "1    7   120  160\n",
       "2    8   180   45\n",
       "3   12    21   13\n",
       "4   15  4875  125"
      ]
     },
     "metadata": {},
     "output_type": "display_data"
    },
    {
     "data": {
      "text/plain": [
       "0.8225928733889311"
      ]
     },
     "execution_count": 8,
     "metadata": {},
     "output_type": "execute_result"
    }
   ],
   "source": [
    "evaluate(\"results/gsm_COT_20250710_0040.jsonl\",  \"data/benchmarks/gsm8k/test.jsonl\")"
   ]
  },
  {
   "cell_type": "code",
   "execution_count": 9,
   "id": "e70ed16e-495b-49ce-8128-91401f08f786",
   "metadata": {},
   "outputs": [
    {
     "name": "stdout",
     "output_type": "stream",
     "text": [
      "Accuracy: 1630/5000  (32.60%)\n"
     ]
    },
    {
     "data": {
      "text/html": [
       "<div>\n",
       "<style scoped>\n",
       "    .dataframe tbody tr th:only-of-type {\n",
       "        vertical-align: middle;\n",
       "    }\n",
       "\n",
       "    .dataframe tbody tr th {\n",
       "        vertical-align: top;\n",
       "    }\n",
       "\n",
       "    .dataframe thead th {\n",
       "        text-align: right;\n",
       "    }\n",
       "</style>\n",
       "<table border=\"1\" class=\"dataframe\">\n",
       "  <thead>\n",
       "    <tr style=\"text-align: right;\">\n",
       "      <th></th>\n",
       "      <th>idx</th>\n",
       "      <th>pred</th>\n",
       "      <th>gold</th>\n",
       "    </tr>\n",
       "  </thead>\n",
       "  <tbody>\n",
       "    <tr>\n",
       "      <th>0</th>\n",
       "      <td>0</td>\n",
       "      <td>1/11</td>\n",
       "      <td>11</td>\n",
       "    </tr>\n",
       "    <tr>\n",
       "      <th>1</th>\n",
       "      <td>2</td>\n",
       "      <td>11200</td>\n",
       "      <td>70</td>\n",
       "    </tr>\n",
       "    <tr>\n",
       "      <th>2</th>\n",
       "      <td>3</td>\n",
       "      <td>61</td>\n",
       "      <td>83</td>\n",
       "    </tr>\n",
       "    <tr>\n",
       "      <th>3</th>\n",
       "      <td>4</td>\n",
       "      <td>1230</td>\n",
       "      <td>1440</td>\n",
       "    </tr>\n",
       "    <tr>\n",
       "      <th>4</th>\n",
       "      <td>6</td>\n",
       "      <td>2</td>\n",
       "      <td>18</td>\n",
       "    </tr>\n",
       "  </tbody>\n",
       "</table>\n",
       "</div>"
      ],
      "text/plain": [
       "   idx   pred  gold\n",
       "0    0   1/11    11\n",
       "1    2  11200    70\n",
       "2    3     61    83\n",
       "3    4   1230  1440\n",
       "4    6      2    18"
      ]
     },
     "metadata": {},
     "output_type": "display_data"
    },
    {
     "data": {
      "text/plain": [
       "0.326"
      ]
     },
     "execution_count": 9,
     "metadata": {},
     "output_type": "execute_result"
    }
   ],
   "source": [
    "evaluate(\"results/math_COT_20250710_0040.jsonl\",\"data/benchmarks/math_test_all.jsonl\")"
   ]
  },
  {
   "cell_type": "code",
   "execution_count": 10,
   "id": "fc4b3a45-7459-4b7a-b33b-85d0e7936bb4",
   "metadata": {},
   "outputs": [
    {
     "name": "stdout",
     "output_type": "stream",
     "text": [
      "Accuracy: 948/1319  (71.87%)\n"
     ]
    },
    {
     "data": {
      "text/html": [
       "<div>\n",
       "<style scoped>\n",
       "    .dataframe tbody tr th:only-of-type {\n",
       "        vertical-align: middle;\n",
       "    }\n",
       "\n",
       "    .dataframe tbody tr th {\n",
       "        vertical-align: top;\n",
       "    }\n",
       "\n",
       "    .dataframe thead th {\n",
       "        text-align: right;\n",
       "    }\n",
       "</style>\n",
       "<table border=\"1\" class=\"dataframe\">\n",
       "  <thead>\n",
       "    <tr style=\"text-align: right;\">\n",
       "      <th></th>\n",
       "      <th>idx</th>\n",
       "      <th>pred</th>\n",
       "      <th>gold</th>\n",
       "    </tr>\n",
       "  </thead>\n",
       "  <tbody>\n",
       "    <tr>\n",
       "      <th>0</th>\n",
       "      <td>7</td>\n",
       "      <td>120</td>\n",
       "      <td>160</td>\n",
       "    </tr>\n",
       "    <tr>\n",
       "      <th>1</th>\n",
       "      <td>8</td>\n",
       "      <td>355</td>\n",
       "      <td>45</td>\n",
       "    </tr>\n",
       "    <tr>\n",
       "      <th>2</th>\n",
       "      <td>13</td>\n",
       "      <td>36</td>\n",
       "      <td>18</td>\n",
       "    </tr>\n",
       "    <tr>\n",
       "      <th>3</th>\n",
       "      <td>15</td>\n",
       "      <td>96</td>\n",
       "      <td>125</td>\n",
       "    </tr>\n",
       "    <tr>\n",
       "      <th>4</th>\n",
       "      <td>16</td>\n",
       "      <td>167</td>\n",
       "      <td>230</td>\n",
       "    </tr>\n",
       "  </tbody>\n",
       "</table>\n",
       "</div>"
      ],
      "text/plain": [
       "   idx pred gold\n",
       "0    7  120  160\n",
       "1    8  355   45\n",
       "2   13   36   18\n",
       "3   15   96  125\n",
       "4   16  167  230"
      ]
     },
     "metadata": {},
     "output_type": "display_data"
    },
    {
     "data": {
      "text/plain": [
       "0.7187263078089462"
      ]
     },
     "execution_count": 10,
     "metadata": {},
     "output_type": "execute_result"
    }
   ],
   "source": [
    "evaluate(\"results/gsm_STATIC_COT_20250712_1548.jsonl\",  \"data/benchmarks/gsm8k/test.jsonl\")"
   ]
  },
  {
   "cell_type": "code",
   "execution_count": 11,
   "id": "805b53b9-b04b-4f04-b7eb-cbe0b39b64e8",
   "metadata": {},
   "outputs": [
    {
     "name": "stdout",
     "output_type": "stream",
     "text": [
      "Accuracy: 948/1319  (71.87%)\n"
     ]
    },
    {
     "data": {
      "text/html": [
       "<div>\n",
       "<style scoped>\n",
       "    .dataframe tbody tr th:only-of-type {\n",
       "        vertical-align: middle;\n",
       "    }\n",
       "\n",
       "    .dataframe tbody tr th {\n",
       "        vertical-align: top;\n",
       "    }\n",
       "\n",
       "    .dataframe thead th {\n",
       "        text-align: right;\n",
       "    }\n",
       "</style>\n",
       "<table border=\"1\" class=\"dataframe\">\n",
       "  <thead>\n",
       "    <tr style=\"text-align: right;\">\n",
       "      <th></th>\n",
       "      <th>idx</th>\n",
       "      <th>pred</th>\n",
       "      <th>gold</th>\n",
       "    </tr>\n",
       "  </thead>\n",
       "  <tbody>\n",
       "    <tr>\n",
       "      <th>0</th>\n",
       "      <td>7</td>\n",
       "      <td>120</td>\n",
       "      <td>160</td>\n",
       "    </tr>\n",
       "    <tr>\n",
       "      <th>1</th>\n",
       "      <td>8</td>\n",
       "      <td>355</td>\n",
       "      <td>45</td>\n",
       "    </tr>\n",
       "    <tr>\n",
       "      <th>2</th>\n",
       "      <td>13</td>\n",
       "      <td>36</td>\n",
       "      <td>18</td>\n",
       "    </tr>\n",
       "    <tr>\n",
       "      <th>3</th>\n",
       "      <td>15</td>\n",
       "      <td>96</td>\n",
       "      <td>125</td>\n",
       "    </tr>\n",
       "    <tr>\n",
       "      <th>4</th>\n",
       "      <td>16</td>\n",
       "      <td>167</td>\n",
       "      <td>230</td>\n",
       "    </tr>\n",
       "  </tbody>\n",
       "</table>\n",
       "</div>"
      ],
      "text/plain": [
       "   idx pred gold\n",
       "0    7  120  160\n",
       "1    8  355   45\n",
       "2   13   36   18\n",
       "3   15   96  125\n",
       "4   16  167  230"
      ]
     },
     "metadata": {},
     "output_type": "display_data"
    },
    {
     "data": {
      "text/plain": [
       "0.7187263078089462"
      ]
     },
     "execution_count": 11,
     "metadata": {},
     "output_type": "execute_result"
    }
   ],
   "source": [
    "evaluate(\"results/gsm_STATIC_COT_20250713_0140.jsonl\",  \"data/benchmarks/gsm8k/test.jsonl\")"
   ]
  },
  {
   "cell_type": "code",
   "execution_count": 12,
   "id": "f77dcfba-93dc-4cdf-826f-244a8f1b52e5",
   "metadata": {},
   "outputs": [
    {
     "name": "stdout",
     "output_type": "stream",
     "text": [
      "Accuracy: 1029/1319  (78.01%)\n"
     ]
    },
    {
     "data": {
      "text/html": [
       "<div>\n",
       "<style scoped>\n",
       "    .dataframe tbody tr th:only-of-type {\n",
       "        vertical-align: middle;\n",
       "    }\n",
       "\n",
       "    .dataframe tbody tr th {\n",
       "        vertical-align: top;\n",
       "    }\n",
       "\n",
       "    .dataframe thead th {\n",
       "        text-align: right;\n",
       "    }\n",
       "</style>\n",
       "<table border=\"1\" class=\"dataframe\">\n",
       "  <thead>\n",
       "    <tr style=\"text-align: right;\">\n",
       "      <th></th>\n",
       "      <th>idx</th>\n",
       "      <th>pred</th>\n",
       "      <th>gold</th>\n",
       "    </tr>\n",
       "  </thead>\n",
       "  <tbody>\n",
       "    <tr>\n",
       "      <th>0</th>\n",
       "      <td>4</td>\n",
       "      <td>3</td>\n",
       "      <td>20</td>\n",
       "    </tr>\n",
       "    <tr>\n",
       "      <th>1</th>\n",
       "      <td>7</td>\n",
       "      <td>120</td>\n",
       "      <td>160</td>\n",
       "    </tr>\n",
       "    <tr>\n",
       "      <th>2</th>\n",
       "      <td>12</td>\n",
       "      <td>12</td>\n",
       "      <td>13</td>\n",
       "    </tr>\n",
       "    <tr>\n",
       "      <th>3</th>\n",
       "      <td>17</td>\n",
       "      <td>450</td>\n",
       "      <td>57500</td>\n",
       "    </tr>\n",
       "    <tr>\n",
       "      <th>4</th>\n",
       "      <td>20</td>\n",
       "      <td>67</td>\n",
       "      <td>15</td>\n",
       "    </tr>\n",
       "  </tbody>\n",
       "</table>\n",
       "</div>"
      ],
      "text/plain": [
       "   idx pred   gold\n",
       "0    4    3     20\n",
       "1    7  120    160\n",
       "2   12   12     13\n",
       "3   17  450  57500\n",
       "4   20   67     15"
      ]
     },
     "metadata": {},
     "output_type": "display_data"
    },
    {
     "data": {
      "text/plain": [
       "0.78013646702047"
      ]
     },
     "execution_count": 12,
     "metadata": {},
     "output_type": "execute_result"
    }
   ],
   "source": [
    "evaluate(\"results/gsm_STATIC_COT_20250713_1117.jsonl\",  \"data/benchmarks/gsm8k/test.jsonl\")"
   ]
  },
  {
   "cell_type": "code",
   "execution_count": 13,
   "id": "1086e574-ba8f-419c-b97c-0a74d8712906",
   "metadata": {},
   "outputs": [
    {
     "name": "stdout",
     "output_type": "stream",
     "text": [
      "Accuracy: 1095/1319  (83.02%)\n"
     ]
    },
    {
     "data": {
      "text/html": [
       "<div>\n",
       "<style scoped>\n",
       "    .dataframe tbody tr th:only-of-type {\n",
       "        vertical-align: middle;\n",
       "    }\n",
       "\n",
       "    .dataframe tbody tr th {\n",
       "        vertical-align: top;\n",
       "    }\n",
       "\n",
       "    .dataframe thead th {\n",
       "        text-align: right;\n",
       "    }\n",
       "</style>\n",
       "<table border=\"1\" class=\"dataframe\">\n",
       "  <thead>\n",
       "    <tr style=\"text-align: right;\">\n",
       "      <th></th>\n",
       "      <th>idx</th>\n",
       "      <th>pred</th>\n",
       "      <th>gold</th>\n",
       "    </tr>\n",
       "  </thead>\n",
       "  <tbody>\n",
       "    <tr>\n",
       "      <th>0</th>\n",
       "      <td>5</td>\n",
       "      <td>29</td>\n",
       "      <td>64</td>\n",
       "    </tr>\n",
       "    <tr>\n",
       "      <th>1</th>\n",
       "      <td>7</td>\n",
       "      <td>100</td>\n",
       "      <td>160</td>\n",
       "    </tr>\n",
       "    <tr>\n",
       "      <th>2</th>\n",
       "      <td>8</td>\n",
       "      <td>175</td>\n",
       "      <td>45</td>\n",
       "    </tr>\n",
       "    <tr>\n",
       "      <th>3</th>\n",
       "      <td>12</td>\n",
       "      <td>12</td>\n",
       "      <td>13</td>\n",
       "    </tr>\n",
       "    <tr>\n",
       "      <th>4</th>\n",
       "      <td>16</td>\n",
       "      <td>190</td>\n",
       "      <td>230</td>\n",
       "    </tr>\n",
       "  </tbody>\n",
       "</table>\n",
       "</div>"
      ],
      "text/plain": [
       "   idx pred gold\n",
       "0    5   29   64\n",
       "1    7  100  160\n",
       "2    8  175   45\n",
       "3   12   12   13\n",
       "4   16  190  230"
      ]
     },
     "metadata": {},
     "output_type": "display_data"
    },
    {
     "data": {
      "text/plain": [
       "0.8301743745261562"
      ]
     },
     "execution_count": 13,
     "metadata": {},
     "output_type": "execute_result"
    }
   ],
   "source": [
    "evaluate(\"results/gsm_DYNAMIC_COT_20250716_0825.jsonl\",  \"data/benchmarks/gsm8k/test.jsonl\")"
   ]
  },
  {
   "cell_type": "code",
   "execution_count": 14,
   "id": "f2b82182-e9b1-4148-8873-82ca15e96c78",
   "metadata": {},
   "outputs": [
    {
     "name": "stdout",
     "output_type": "stream",
     "text": [
      "Accuracy: 1064/1319  (80.67%)\n"
     ]
    },
    {
     "data": {
      "text/html": [
       "<div>\n",
       "<style scoped>\n",
       "    .dataframe tbody tr th:only-of-type {\n",
       "        vertical-align: middle;\n",
       "    }\n",
       "\n",
       "    .dataframe tbody tr th {\n",
       "        vertical-align: top;\n",
       "    }\n",
       "\n",
       "    .dataframe thead th {\n",
       "        text-align: right;\n",
       "    }\n",
       "</style>\n",
       "<table border=\"1\" class=\"dataframe\">\n",
       "  <thead>\n",
       "    <tr style=\"text-align: right;\">\n",
       "      <th></th>\n",
       "      <th>idx</th>\n",
       "      <th>pred</th>\n",
       "      <th>gold</th>\n",
       "    </tr>\n",
       "  </thead>\n",
       "  <tbody>\n",
       "    <tr>\n",
       "      <th>0</th>\n",
       "      <td>2</td>\n",
       "      <td>50000</td>\n",
       "      <td>70000</td>\n",
       "    </tr>\n",
       "    <tr>\n",
       "      <th>1</th>\n",
       "      <td>5</td>\n",
       "      <td>50</td>\n",
       "      <td>64</td>\n",
       "    </tr>\n",
       "    <tr>\n",
       "      <th>2</th>\n",
       "      <td>7</td>\n",
       "      <td>000</td>\n",
       "      <td>160</td>\n",
       "    </tr>\n",
       "    <tr>\n",
       "      <th>3</th>\n",
       "      <td>8</td>\n",
       "      <td>0</td>\n",
       "      <td>45</td>\n",
       "    </tr>\n",
       "    <tr>\n",
       "      <th>4</th>\n",
       "      <td>12</td>\n",
       "      <td>12</td>\n",
       "      <td>13</td>\n",
       "    </tr>\n",
       "  </tbody>\n",
       "</table>\n",
       "</div>"
      ],
      "text/plain": [
       "   idx   pred   gold\n",
       "0    2  50000  70000\n",
       "1    5     50     64\n",
       "2    7    000    160\n",
       "3    8      0     45\n",
       "4   12     12     13"
      ]
     },
     "metadata": {},
     "output_type": "display_data"
    },
    {
     "data": {
      "text/plain": [
       "0.8066717210007581"
      ]
     },
     "execution_count": 14,
     "metadata": {},
     "output_type": "execute_result"
    }
   ],
   "source": [
    "evaluate(\"results/gsm_DYNAMIC_COT_20250715_1710.jsonl\",  \"data/benchmarks/gsm8k/test.jsonl\")"
   ]
  },
  {
   "cell_type": "code",
   "execution_count": null,
   "id": "7d3f21b3-8b85-4f24-8a88-2aafd898c60d",
   "metadata": {},
   "outputs": [],
   "source": []
  }
 ],
 "metadata": {
  "kernelspec": {
   "display_name": "RAG (OpenMath +BGE)",
   "language": "python",
   "name": "srijan_pw_env"
  },
  "language_info": {
   "codemirror_mode": {
    "name": "ipython",
    "version": 3
   },
   "file_extension": ".py",
   "mimetype": "text/x-python",
   "name": "python",
   "nbconvert_exporter": "python",
   "pygments_lexer": "ipython3",
   "version": "3.12.3"
  }
 },
 "nbformat": 4,
 "nbformat_minor": 5
}
