{
 "cells": [
  {
   "cell_type": "code",
   "execution_count": 4,
   "id": "6e41ec97",
   "metadata": {},
   "outputs": [],
   "source": [
    "from __future__ import annotations\n",
    "import os\n",
    "os.environ[\"CUDA_VISIBLE_DEVICES\"] = \"4\" \n",
    "\n",
    "import json\n",
    "from pathlib import Path\n",
    "from typing import List, Dict\n",
    "\n",
    "import faiss  # type: ignore\n",
    "import numpy as np\n",
    "import torch\n",
    "from FlagEmbedding import BGEM3FlagModel\n",
    "from BGERetriever import BGERetriever"
   ]
  },
  {
   "cell_type": "code",
   "execution_count": 5,
   "id": "c6b9c71d-9cbf-4c9f-908b-0890b8334714",
   "metadata": {},
   "outputs": [],
   "source": [
    "device = \"cuda\" if torch.cuda.is_available() else \"cpu\""
   ]
  },
  {
   "cell_type": "code",
   "execution_count": 6,
   "id": "5f81a124-c1ed-48b1-a5a0-4cd552289323",
   "metadata": {},
   "outputs": [
    {
     "data": {
      "application/vnd.jupyter.widget-view+json": {
       "model_id": "5be699f6bda34603a69a3ed8c1aacb40",
       "version_major": 2,
       "version_minor": 0
      },
      "text/plain": [
       "Fetching 30 files:   0%|          | 0/30 [00:00<?, ?it/s]"
      ]
     },
     "metadata": {},
     "output_type": "display_data"
    }
   ],
   "source": [
    "emb_model = BGEM3FlagModel(\"BAAI/bge-m3\", use_fp16=True)\n",
    "retriever = BGERetriever(\n",
    "    embedding_model=emb_model,\n",
    "    index_path=\"/local00/student/shakya/openmath_bge-m3_hnsw_index\",\n",
    "    metadata_path=\"/local00/student/shakya/openmath_bge-m3_metadata.jsonl\",\n",
    "    device=device,\n",
    ")"
   ]
  },
  {
   "cell_type": "code",
   "execution_count": 7,
   "id": "fcb21641",
   "metadata": {},
   "outputs": [
    {
     "name": "stderr",
     "output_type": "stream",
     "text": [
      "You're using a XLMRobertaTokenizerFast tokenizer. Please note that with a fast tokenizer, using the `__call__` method is faster than using a method to encode the text followed by a call to the `pad` method to get a padded encoding.\n"
     ]
    }
   ],
   "source": [
    "docs = retriever.search(\"pythagorean theorem\", k=200)"
   ]
  },
  {
   "cell_type": "code",
   "execution_count": null,
   "id": "6fe46ae1-f42a-4f35-8ebd-2874ad2472f1",
   "metadata": {},
   "outputs": [],
   "source": [
    "pairs = [[\"pythagorean theorem\", d[\"solution_chunk\"]] for d in docs]\n",
    "scores = retriever.model.compute_score(pairs)[\"colbert\"]\n",
    "for d, s in zip(docs, scores):\n",
    "    d[\"rerank_score\"] = s\n",
    "docs = sorted(docs, key=lambda d: d[\"rerank_score\"], reverse=True)[:10]"
   ]
  },
  {
   "cell_type": "code",
   "execution_count": 19,
   "id": "dbd8c78d-ff7d-44c8-9405-7e8782be935b",
   "metadata": {},
   "outputs": [
    {
     "data": {
      "text/plain": [
       "[{'id': 1942037000,\n",
       "  'score': 0.57972115,\n",
       "  'solution_chunk': 'In a right triangle, the Pythagorean theorem states that the sum of the squares of the lengths of the two shorter sides is equal to the square of the length of the hypotenuse.',\n",
       "  'problem': 'If the lengths of two sides of a right triangle are 5 and 12 units, what is the least possible length, in units, of the third side? Express your answer in simplest radical form.',\n",
       "  'rerank_score': 0.7772959470748901},\n",
       " {'id': 8408518000,\n",
       "  'score': 0.58767045,\n",
       "  'solution_chunk': 'The Pythagorean theorem states that in a right-angled triangle, the square of the hypotenuse side is equal to the sum of squares of the other two sides.',\n",
       "  'problem': 'Given a quadratic equation in the form of ax^2 + bx + c = 0, determine the value of x that satisfies the equation and also forms the hypotenuse of a right-angled triangle with legs of lengths 5 and 12. If no such value of x exists, determine the closest approximation to the solution.',\n",
       "  'rerank_score': 0.771983802318573},\n",
       " {'id': 12186416000,\n",
       "  'score': 0.5900596,\n",
       "  'solution_chunk': 'The Pythagorean Theorem states that in a right-angled triangle, the square of the length of the hypotenuse is equal to the sum of the squares of the lengths of the other two sides.',\n",
       "  'problem': 'The sides of a right triangle have lengths $a, a+2$, and $2a$. Find the ratio of the lengths of the sides of the triangle in simplest form.',\n",
       "  'rerank_score': 0.7710756659507751},\n",
       " {'id': 2709894000,\n",
       "  'score': 0.6033074,\n",
       "  'solution_chunk': 'The Pythagorean theorem states that the square of the length of the hypotenuse of a right triangle is equal to the sum of the squares of the lengths of the other two sides.',\n",
       "  'problem': 'The two legs of a right triangle are $4x$ and $5x$, and the length of the hypotenuse is $4x+5$. Find the value of $x$.',\n",
       "  'rerank_score': 0.7699055671691895},\n",
       " {'id': 8731492000,\n",
       "  'score': 0.58628905,\n",
       "  'solution_chunk': 'The Pythagorean theorem states that in a right triangle, the square of the length of the hypotenuse is equal to the sum of the squares of the lengths of the legs.',\n",
       "  'problem': 'Given a right triangle $ABC$ with hypotenuse $AB$, find the smallest possible value of the expression $\\\\frac{AC^2+BC^2}{AB^2}$, where $AC$ and $BC$ are the lengths of the legs and $AB$ is the length of the hypotenuse.',\n",
       "  'rerank_score': 0.7679427266120911},\n",
       " {'id': 11149133000,\n",
       "  'score': 0.58273757,\n",
       "  'solution_chunk': 'The Pythagorean theorem states that in a right-angled triangle, the square of the length of the hypotenuse (c) is equal to the sum of the squares of the lengths of the other two sides (a and b).',\n",
       "  'problem': 'A right triangle has legs of length a and b, and a hypotenuse of length c. The difference between the squares of the legs is 320. What is the smallest possible length of the hypotenuse?',\n",
       "  'rerank_score': 0.7673754096031189},\n",
       " {'id': 6132604000,\n",
       "  'score': 0.59797525,\n",
       "  'solution_chunk': 'The Pythagorean theorem states that the square of the length of the hypotenuse of a right triangle is equal to the sum of the squares of the lengths of the other two sides. For this problem, the theorem can be written as: \\\\[ 4^2 + x^2 = (2x - 1)^2 \\\\] Expand the equation: \\\\[ 16 + x^2 = 4x^2 - 4x + 1 \\\\] Simplify the equation: \\\\[ 0 = 3x^2 - 4x - 15 \\\\] Factor the equation: \\\\[ 0 = (3x + 5)(x - 3) \\\\] Solve for $x$: \\\\[ 3x + 5 = 0 \\\\quad \\\\text{or} \\\\quad x - 3 = 0 \\\\] \\\\[ 3x = -5 \\\\quad \\\\text{or} \\\\quad x = 3 \\\\] \\\\[ x = -\\\\frac{5}{3} \\\\quad \\\\text{or} \\\\quad x = 3 \\\\] Since $x$ is a positive integer, $x = 3$ is the only valid solution. Average of all possible values of $x$ is: \\\\[ \\\\boxed{3} \\\\]',\n",
       "  'problem': 'A right triangle has legs of length 4 and x, where x is a positive integer. The hypotenuse has a length of 2x-1. What is the average of all possible values of x?',\n",
       "  'rerank_score': 0.7652000188827515},\n",
       " {'id': 8976321000,\n",
       "  'score': 0.5868982,\n",
       "  'solution_chunk': 'The Pythagorean Theorem states that in a right triangle, the square of the hypotenuse side is equal to the sum of squares of the other two sides.',\n",
       "  'problem': 'Two sides of a right triangle have the lengths 4 and 5. What is the product of the possible lengths of the third side? Express the product as a decimal rounded to the nearest tenth.',\n",
       "  'rerank_score': 0.7642540335655212},\n",
       " {'id': 6844536000,\n",
       "  'score': 0.5859237,\n",
       "  'solution_chunk': 'The Pythagorean Theorem states that in a right-angled triangle, the square of the length of the hypotenuse is equal to the sum of the squares of the lengths of the legs. In this case, we have the hypotenuse $c = 5$ and the legs $a$ and $b$ as positive integers. The Pythagorean Theorem: \\\\[ c^2 = a^2 + b^2 \\\\Rightarrow 5^2 = a^2 + b^2 \\\\Rightarrow 25 = a^2 + b^2 \\\\] We need to find positive integer values of $a$ and $b$ that satisfy this equation. One way to find the positive integer values is to list the pairs of perfect squares that add up to 25: \\\\[ 1^2 + 4^2 = 16 + 9 = 25 \\\\] \\\\[ 3^2 + 4^2 = 9 + 16 = 25 \\\\] Thus, the positive integer values of $a$ and $b$ that satisfy the Pythagorean Theorem are $a = 3$ and $b = 4$. When the triangle is reflected across its hypotenuse, the two legs become two pairs of congruent sides of the kite.',\n",
       "  'problem': 'In a right-angled triangle, the length of the hypotenuse is 5 units and the lengths of the legs are positive integers. The triangle is then reflected across its hypotenuse to form a kite. What is the sum of the perimeter and area of the resulting kite?',\n",
       "  'rerank_score': 0.7631164193153381},\n",
       " {'id': 13604810000,\n",
       "  'score': 0.58334106,\n",
       "  'solution_chunk': 'The Pythagorean theorem states that in a right triangle, the square of the length of the hypotenuse ($c$) is equal to the sum of the squares of the lengths of the other two sides ($a$ and $b$).',\n",
       "  'problem': 'A right triangle has legs of length $a$ and $b$, where $a$ is an integer and $b$ is a positive multiple of $\\\\frac{1}{2}$. The hypotenuse of the triangle has a length of $25$ units. If the sum of the lengths of the two legs is an integer, determine $a$.',\n",
       "  'rerank_score': 0.759735107421875}]"
      ]
     },
     "execution_count": 19,
     "metadata": {},
     "output_type": "execute_result"
    }
   ],
   "source": [
    "docs"
   ]
  },
  {
   "cell_type": "code",
   "execution_count": 20,
   "id": "ca00f57b-f642-4a3f-88f9-be23c8e43190",
   "metadata": {},
   "outputs": [],
   "source": [
    "retrieved_context = \"\"\n",
    "for i, (h_list) in enumerate((docs), 1):\n",
    "    retrieved_context += f\"question {i}:\\n\"\n",
    "    retrieved_context += h_list.get(\"problem\")\n",
    "    retrieved_context += \"\\n\"\n",
    "    retrieved_context += h_list.get(\"solution_chunk\") or h_list.get(\"text\")\n",
    "    retrieved_context += \"\\n\""
   ]
  },
  {
   "cell_type": "code",
   "execution_count": 21,
   "id": "6ca619da-95c9-4979-87bc-46f8f6f77b36",
   "metadata": {},
   "outputs": [
    {
     "name": "stdout",
     "output_type": "stream",
     "text": [
      "question 1:\n",
      "If the lengths of two sides of a right triangle are 5 and 12 units, what is the least possible length, in units, of the third side? Express your answer in simplest radical form.\n",
      "In a right triangle, the Pythagorean theorem states that the sum of the squares of the lengths of the two shorter sides is equal to the square of the length of the hypotenuse.\n",
      "question 2:\n",
      "Given a quadratic equation in the form of ax^2 + bx + c = 0, determine the value of x that satisfies the equation and also forms the hypotenuse of a right-angled triangle with legs of lengths 5 and 12. If no such value of x exists, determine the closest approximation to the solution.\n",
      "The Pythagorean theorem states that in a right-angled triangle, the square of the hypotenuse side is equal to the sum of squares of the other two sides.\n",
      "question 3:\n",
      "The sides of a right triangle have lengths $a, a+2$, and $2a$. Find the ratio of the lengths of the sides of the triangle in simplest form.\n",
      "The Pythagorean Theorem states that in a right-angled triangle, the square of the length of the hypotenuse is equal to the sum of the squares of the lengths of the other two sides.\n",
      "question 4:\n",
      "The two legs of a right triangle are $4x$ and $5x$, and the length of the hypotenuse is $4x+5$. Find the value of $x$.\n",
      "The Pythagorean theorem states that the square of the length of the hypotenuse of a right triangle is equal to the sum of the squares of the lengths of the other two sides.\n",
      "question 5:\n",
      "Given a right triangle $ABC$ with hypotenuse $AB$, find the smallest possible value of the expression $\\frac{AC^2+BC^2}{AB^2}$, where $AC$ and $BC$ are the lengths of the legs and $AB$ is the length of the hypotenuse.\n",
      "The Pythagorean theorem states that in a right triangle, the square of the length of the hypotenuse is equal to the sum of the squares of the lengths of the legs.\n",
      "question 6:\n",
      "A right triangle has legs of length a and b, and a hypotenuse of length c. The difference between the squares of the legs is 320. What is the smallest possible length of the hypotenuse?\n",
      "The Pythagorean theorem states that in a right-angled triangle, the square of the length of the hypotenuse (c) is equal to the sum of the squares of the lengths of the other two sides (a and b).\n",
      "question 7:\n",
      "A right triangle has legs of length 4 and x, where x is a positive integer. The hypotenuse has a length of 2x-1. What is the average of all possible values of x?\n",
      "The Pythagorean theorem states that the square of the length of the hypotenuse of a right triangle is equal to the sum of the squares of the lengths of the other two sides. For this problem, the theorem can be written as: \\[ 4^2 + x^2 = (2x - 1)^2 \\] Expand the equation: \\[ 16 + x^2 = 4x^2 - 4x + 1 \\] Simplify the equation: \\[ 0 = 3x^2 - 4x - 15 \\] Factor the equation: \\[ 0 = (3x + 5)(x - 3) \\] Solve for $x$: \\[ 3x + 5 = 0 \\quad \\text{or} \\quad x - 3 = 0 \\] \\[ 3x = -5 \\quad \\text{or} \\quad x = 3 \\] \\[ x = -\\frac{5}{3} \\quad \\text{or} \\quad x = 3 \\] Since $x$ is a positive integer, $x = 3$ is the only valid solution. Average of all possible values of $x$ is: \\[ \\boxed{3} \\]\n",
      "question 8:\n",
      "Two sides of a right triangle have the lengths 4 and 5. What is the product of the possible lengths of the third side? Express the product as a decimal rounded to the nearest tenth.\n",
      "The Pythagorean Theorem states that in a right triangle, the square of the hypotenuse side is equal to the sum of squares of the other two sides.\n",
      "question 9:\n",
      "In a right-angled triangle, the length of the hypotenuse is 5 units and the lengths of the legs are positive integers. The triangle is then reflected across its hypotenuse to form a kite. What is the sum of the perimeter and area of the resulting kite?\n",
      "The Pythagorean Theorem states that in a right-angled triangle, the square of the length of the hypotenuse is equal to the sum of the squares of the lengths of the legs. In this case, we have the hypotenuse $c = 5$ and the legs $a$ and $b$ as positive integers. The Pythagorean Theorem: \\[ c^2 = a^2 + b^2 \\Rightarrow 5^2 = a^2 + b^2 \\Rightarrow 25 = a^2 + b^2 \\] We need to find positive integer values of $a$ and $b$ that satisfy this equation. One way to find the positive integer values is to list the pairs of perfect squares that add up to 25: \\[ 1^2 + 4^2 = 16 + 9 = 25 \\] \\[ 3^2 + 4^2 = 9 + 16 = 25 \\] Thus, the positive integer values of $a$ and $b$ that satisfy the Pythagorean Theorem are $a = 3$ and $b = 4$. When the triangle is reflected across its hypotenuse, the two legs become two pairs of congruent sides of the kite.\n",
      "question 10:\n",
      "A right triangle has legs of length $a$ and $b$, where $a$ is an integer and $b$ is a positive multiple of $\\frac{1}{2}$. The hypotenuse of the triangle has a length of $25$ units. If the sum of the lengths of the two legs is an integer, determine $a$.\n",
      "The Pythagorean theorem states that in a right triangle, the square of the length of the hypotenuse ($c$) is equal to the sum of the squares of the lengths of the other two sides ($a$ and $b$).\n",
      "\n"
     ]
    }
   ],
   "source": [
    "print(retrieved_context)"
   ]
  },
  {
   "cell_type": "code",
   "execution_count": 16,
   "id": "f4f974ca-b40b-45d2-9d26-94ad27e72ba1",
   "metadata": {},
   "outputs": [
    {
     "name": "stdout",
     "output_type": "stream",
     "text": [
      "⏳  Loading Faiss index …\n",
      "✅  index loaded: 22,392,715 vectors, dim=1024\n",
      "⏳  Loading metadata …\n",
      "✅  22,392,715 meta rows\n",
      "⏳  Loading BGE‑m3 embedder …\n"
     ]
    },
    {
     "data": {
      "application/vnd.jupyter.widget-view+json": {
       "model_id": "13a89020bc4c4507818f6eb6489daac2",
       "version_major": 2,
       "version_minor": 0
      },
      "text/plain": [
       "Fetching 30 files:   0%|          | 0/30 [00:05<?, ?it/s]"
      ]
     },
     "metadata": {},
     "output_type": "display_data"
    },
    {
     "name": "stdout",
     "output_type": "stream",
     "text": [
      "⏳  Loading reranker (cross‑encoder) …\n",
      "🎉  init() complete. Ready to search.\n"
     ]
    }
   ],
   "source": [
    "init(\"/local00/student/shakya/openmath_bge-m3_hnsw_index\",\n",
    "     \"/local00/student/shakya/openmath_bge-m3_metadata.jsonl\")"
   ]
  },
  {
   "cell_type": "code",
   "execution_count": 33,
   "id": "a1cd3084-9866-4dee-b641-d6356ff6ccb4",
   "metadata": {},
   "outputs": [
    {
     "data": {
      "text/plain": [
       "[{'id': 1259277004,\n",
       "  'row_id': '1259277',\n",
       "  'chunk_id': '4',\n",
       "  'problem': 'Let $EFGH$ be an isosceles trapezoid, whose dimensions are $EF = 8, FG=6=HE,$and $GH=5.$ Draw circles of radius 4 centered at $E$ and $F,$ and circles of radius 3 centered at $G$ and $H.$ A circle contained within the trapezoid is tangent to all four of these circles. Its radius is $\\\\frac{m\\\\sqrt{n}-k}{p},$ where $k, m, n,$ and $p$ are positive integers, $n$ is not divisible by the square of any prime, and $k$ and $p$ are relatively prime. Find $k+m+n+p.$',\n",
       "  'solution_chunk': '## Step 3: Apply the Pythagorean Theorem The Pythagorean Theorem states that in a right-angled triangle, the square of the length of the hypotenuse is equal to the sum of the squares of the lengths of the other two sides. We can apply this theorem to the right-angled triangles formed by the lines $AO$ and $DO$ and the radii of the circles.',\n",
       "  'expected_answer': '134',\n",
       "  'problem_from': 'augmented_math',\n",
       "  'rerank_score': 6.05859375,\n",
       "  'rank': 1},\n",
       " {'id': 4131639000,\n",
       "  'row_id': '4131639',\n",
       "  'chunk_id': '0',\n",
       "  'problem': 'The legs $PQ$ and $PR$ of a right triangle $PQR$ have lengths which are positive whole numbers. Given that $PQ = k \\\\cdot PR$ for some positive integer $k$, and that the length of the hypotenuse $QR$ is 15, what are all the possible values of $k$?',\n",
       "  'solution_chunk': '## Step 1: Recall the Pythagorean Theorem The Pythagorean Theorem states that in a right-angled triangle, the square of the length of the hypotenuse is equal to the sum of the squares of the lengths of the other two sides. In this case, it can be expressed as \\\\(QR^2 = PQ^2 + PR^2\\\\).',\n",
       "  'expected_answer': '2',\n",
       "  'problem_from': 'augmented_math',\n",
       "  'rerank_score': 5.64453125,\n",
       "  'rank': 2},\n",
       " {'id': 5365579001,\n",
       "  'row_id': '5365579',\n",
       "  'chunk_id': '1',\n",
       "  'problem': 'In triangle $PQR,$ $PQ = 30$ and $QR = 24.$ Find the largest possible value of $\\\\tan P.$',\n",
       "  'solution_chunk': '## Step 2: Use the Pythagorean theorem to find the length of the remaining side of the triangle. The Pythagorean theorem states that in a right-angled triangle, the square of the length of the hypotenuse (the side opposite the right angle) is equal to the sum of the squares of the lengths of the other two sides.',\n",
       "  'expected_answer': '\\\\frac{4}{3}',\n",
       "  'problem_from': 'augmented_math',\n",
       "  'rerank_score': 5.17578125,\n",
       "  'rank': 3},\n",
       " {'id': 10105758000,\n",
       "  'row_id': '10105758',\n",
       "  'chunk_id': '0',\n",
       "  'problem': 'In a triangle $PQR$, the median $PS$ and the altitude $PT$ are drawn from the vertex $P$. Given that $QT= 17$ and $QS = 20$, find the length of the segment $TS$.',\n",
       "  'solution_chunk': 'The given figure is a right-angled triangle $QTS$ with $\\\\angle QTS = 90^{\\\\circ}$. We can use the Pythagorean theorem to find the length of $TS$. The Pythagorean theorem states that for a right-angled triangle, the square of the length of the hypotenuse is equal to the sum of the squares of the lengths of the other two sides. Here, $QS$ is the hypotenuse and $TS$ and $QT$ are the other two sides.',\n",
       "  'expected_answer': '\\\\sqrt{111}',\n",
       "  'problem_from': 'augmented_math',\n",
       "  'rerank_score': 5.1640625,\n",
       "  'rank': 4},\n",
       " {'id': 8264502001,\n",
       "  'row_id': '8264502',\n",
       "  'chunk_id': '1',\n",
       "  'problem': 'In right triangle $XYZ$ with hypotenuse $\\\\overline{XY}$, $XZ = 15$, $YZ = 20$, and $\\\\overline{ZT}$ is the altitude to $\\\\overline{XY}$. Let $\\\\theta$ be the circle having $\\\\overline{ZT}$ as a diameter. Let $J$ be a point outside $\\\\triangle XYZ$ such that $\\\\overline{XJ}$ and $\\\\overline{YJ}$ are both tangent to circle $\\\\theta$. The ratio of the area of $\\\\triangle XYJ$ to the length $XY$ can be expressed in the form $\\\\frac {p}{q}$, where $p$ and $q$ are relatively prime positive integers. Find $p + q$.',\n",
       "  'solution_chunk': '## Step 2: The Pythagorean Theorem states that in a right-angled triangle, the square of the length of the hypotenuse is equal to the sum of the squares of the lengths of the other two sides.',\n",
       "  'expected_answer': '7',\n",
       "  'problem_from': 'augmented_math',\n",
       "  'rerank_score': 5.05078125,\n",
       "  'rank': 5}]"
      ]
     },
     "execution_count": 33,
     "metadata": {},
     "output_type": "execute_result"
    }
   ],
   "source": [
    "hits = search(\"pythagorean theorem\")\n",
    "hits"
   ]
  },
  {
   "cell_type": "code",
   "execution_count": 39,
   "id": "75b00b37-cced-4675-81e2-65bccb3af2b5",
   "metadata": {},
   "outputs": [
    {
     "data": {
      "text/plain": [
       "'question 1:\\nResponse:Let $EFGH$ be an isosceles trapezoid, whose dimensions are $EF = 8, FG=6=HE,$and $GH=5.$ Draw circles of radius 4 centered at $E$ and $F,$ and circles of radius 3 centered at $G$ and $H.$ A circle contained within the trapezoid is tangent to all four of these circles. Its radius is $\\\\frac{m\\\\sqrt{n}-k}{p},$ where $k, m, n,$ and $p$ are positive integers, $n$ is not divisible by the square of any prime, and $k$ and $p$ are relatively prime. Find $k+m+n+p.$\\n## Step 3: Apply the Pythagorean Theorem The Pythagorean Theorem states that in a right-angled triangle, the square of the length of the hypotenuse is equal to the sum of the squares of the lengths of the other two sides. We can apply this theorem to the right-angled triangles formed by the lines $AO$ and $DO$ and the radii of the circles.\\nquestion 2:\\nResponse:The legs $PQ$ and $PR$ of a right triangle $PQR$ have lengths which are positive whole numbers. Given that $PQ = k \\\\cdot PR$ for some positive integer $k$, and that the length of the hypotenuse $QR$ is 15, what are all the possible values of $k$?\\n## Step 1: Recall the Pythagorean Theorem The Pythagorean Theorem states that in a right-angled triangle, the square of the length of the hypotenuse is equal to the sum of the squares of the lengths of the other two sides. In this case, it can be expressed as \\\\(QR^2 = PQ^2 + PR^2\\\\).\\nquestion 3:\\nResponse:In triangle $PQR,$ $PQ = 30$ and $QR = 24.$ Find the largest possible value of $\\\\tan P.$\\n## Step 2: Use the Pythagorean theorem to find the length of the remaining side of the triangle. The Pythagorean theorem states that in a right-angled triangle, the square of the length of the hypotenuse (the side opposite the right angle) is equal to the sum of the squares of the lengths of the other two sides.\\nquestion 4:\\nResponse:In a triangle $PQR$, the median $PS$ and the altitude $PT$ are drawn from the vertex $P$. Given that $QT= 17$ and $QS = 20$, find the length of the segment $TS$.\\nThe given figure is a right-angled triangle $QTS$ with $\\\\angle QTS = 90^{\\\\circ}$. We can use the Pythagorean theorem to find the length of $TS$. The Pythagorean theorem states that for a right-angled triangle, the square of the length of the hypotenuse is equal to the sum of the squares of the lengths of the other two sides. Here, $QS$ is the hypotenuse and $TS$ and $QT$ are the other two sides.\\nquestion 5:\\nResponse:In right triangle $XYZ$ with hypotenuse $\\\\overline{XY}$, $XZ = 15$, $YZ = 20$, and $\\\\overline{ZT}$ is the altitude to $\\\\overline{XY}$. Let $\\\\theta$ be the circle having $\\\\overline{ZT}$ as a diameter. Let $J$ be a point outside $\\\\triangle XYZ$ such that $\\\\overline{XJ}$ and $\\\\overline{YJ}$ are both tangent to circle $\\\\theta$. The ratio of the area of $\\\\triangle XYJ$ to the length $XY$ can be expressed in the form $\\\\frac {p}{q}$, where $p$ and $q$ are relatively prime positive integers. Find $p + q$.\\n## Step 2: The Pythagorean Theorem states that in a right-angled triangle, the square of the length of the hypotenuse is equal to the sum of the squares of the lengths of the other two sides.\\n'"
      ]
     },
     "execution_count": 39,
     "metadata": {},
     "output_type": "execute_result"
    }
   ],
   "source": [
    "retrieved_context = \"\"\n",
    "for i, (h_list) in enumerate((hits), 1):\n",
    "    retrieved_context += f\"question {i}:\\nResponse:\"\n",
    "    retrieved_context += h_list.get(\"problem\")\n",
    "    retrieved_context += \"\\n\"\n",
    "    retrieved_context += h_list.get(\"solution_chunk\") or h_list.get(\"text\")\n",
    "    retrieved_context += \"\\n\"\n",
    "\n",
    "retrieved_context "
   ]
  },
  {
   "cell_type": "code",
   "execution_count": null,
   "id": "1612786e-8fe6-40be-b51a-74ee22204387",
   "metadata": {},
   "outputs": [],
   "source": []
  }
 ],
 "metadata": {
  "kernelspec": {
   "display_name": "RAG (OpenMath +BGE)",
   "language": "python",
   "name": "srijan_pw_env"
  },
  "language_info": {
   "codemirror_mode": {
    "name": "ipython",
    "version": 3
   },
   "file_extension": ".py",
   "mimetype": "text/x-python",
   "name": "python",
   "nbconvert_exporter": "python",
   "pygments_lexer": "ipython3",
   "version": "3.12.3"
  }
 },
 "nbformat": 4,
 "nbformat_minor": 5
}
